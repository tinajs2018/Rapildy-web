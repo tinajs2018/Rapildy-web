{
 "cells": [
  {
   "cell_type": "code",
   "execution_count": 1,
   "metadata": {},
   "outputs": [],
   "source": [
    "from bs4 import BeautifulSoup as bs\n",
    "import urllib\n",
    "import requests"
   ]
  },
  {
   "cell_type": "code",
   "execution_count": 2,
   "metadata": {},
   "outputs": [],
   "source": [
    "url='https://rarity.tools/'"
   ]
  },
  {
   "cell_type": "code",
   "execution_count": 3,
   "metadata": {},
   "outputs": [],
   "source": [
    "html=requests .get(url)"
   ]
  },
  {
   "cell_type": "code",
   "execution_count": 4,
   "metadata": {},
   "outputs": [
    {
     "data": {
      "text/plain": [
       "<Response [200]>"
      ]
     },
     "execution_count": 4,
     "metadata": {},
     "output_type": "execute_result"
    }
   ],
   "source": [
    "html"
   ]
  },
  {
   "cell_type": "code",
   "execution_count": 5,
   "metadata": {},
   "outputs": [
    {
     "data": {
      "text/plain": [
       "b'<!doctype html>\\n<html lang=\"en\" data-n-head=\"%7B%22lang%22:%7B%221%22:%22en%22%7D%7D\">\\n  <head>\\n    <title>rarity.tools</title><meta data-n-head=\"1\" charset=\"utf-8\"><meta data-n-head=\"1\" name=\"viewport\" content=\"width=device-width,initial-scale=1\"><meta data-n-head=\"1\" data-hid=\"description\" name=\"description\" content=\"NFTs ranked and sorted by rarity. See the rarest CryptoPunks, Bored Ape Yacht Club, Hashmasks, Gutter Cat Gang and many more NFT collections.\"><meta data-n-head=\"1\" name=\"coinzilla\" content=\"d1beade5d331af50ccff476e3be587a0\"><link data-n-head=\"1\" rel=\"icon\" type=\"image/x-icon\" href=\"/favicon.ico\"><script data-n-head=\"1\" src=\"https://www.googletagmanager.com/gtag/js?id=G-3X9WY5Z1T6\" defer></script><script data-n-head=\"1\" src=\"/gtag.js\" defer></script><link rel=\"preload\" href=\"/_nuxt/ee8216f.js\" as=\"script\"><link rel=\"preload\" href=\"/_nuxt/a00cd89.js\" as=\"script\"><link rel=\"preload\" href=\"/_nuxt/10879df.js\" as=\"script\"><link rel=\"preload\" href=\"/_nuxt/ca64d0f.js\" as=\"script\">\\n  </head>\\n  <body>\\n    <script data-n-head=\"1\" data-hid=\"nuxt-color-mode-script\" data-pbody=\"true\">!function(){\"use strict\";var t=window,e=document,s=e.documentElement,a=[\"dark\",\"light\"],o=window.localStorage.getItem(\"nuxt-color-mode\")||\"system\",c=\"system\"===o?n():o,e=e.body.getAttribute(\"data-color-mode-forced\");function r(e){e=\"\"+e;s.classList?s.classList.add(e):s.className+=\" \"+e}function l(e){return t.matchMedia(\"(prefers-color-scheme\"+e+\")\")}function n(){if(t.matchMedia&&\"not all\"!==l(\"\").media)for(var e of a)if(l(\":\"+e).matches)return e;return\"light\"}r(c=e?e:c),t.__NUXT_COLOR_MODE__={preference:o,value:c,getColorScheme:n,addClass:r,removeClass:function(e){e=\"\"+e;s.classList?s.classList.remove(e):s.className=s.className.replace(new RegExp(e,\"g\"),\"\")}}}()</script><div id=\"__nuxt\"><style>#nuxt-loading{background:#fff;visibility:hidden;opacity:0;position:absolute;left:0;right:0;top:0;bottom:0;display:flex;justify-content:center;align-items:center;flex-direction:column;animation:nuxtLoadingIn 10s ease;-webkit-animation:nuxtLoadingIn 10s ease;animation-fill-mode:forwards;overflow:hidden}@keyframes nuxtLoadingIn{0%{visibility:hidden;opacity:0}20%{visibility:visible;opacity:0}100%{visibility:visible;opacity:1}}@-webkit-keyframes nuxtLoadingIn{0%{visibility:hidden;opacity:0}20%{visibility:visible;opacity:0}100%{visibility:visible;opacity:1}}#nuxt-loading>div,#nuxt-loading>div:after{border-radius:50%;width:5rem;height:5rem}#nuxt-loading>div{font-size:10px;position:relative;text-indent:-9999em;border:.5rem solid #f5f5f5;border-left:.5rem solid #000;-webkit-transform:translateZ(0);-ms-transform:translateZ(0);transform:translateZ(0);-webkit-animation:nuxtLoading 1.1s infinite linear;animation:nuxtLoading 1.1s infinite linear}#nuxt-loading.error>div{border-left:.5rem solid #ff4500;animation-duration:5s}@-webkit-keyframes nuxtLoading{0%{-webkit-transform:rotate(0);transform:rotate(0)}100%{-webkit-transform:rotate(360deg);transform:rotate(360deg)}}@keyframes nuxtLoading{0%{-webkit-transform:rotate(0);transform:rotate(0)}100%{-webkit-transform:rotate(360deg);transform:rotate(360deg)}}</style><script>window.addEventListener(\"error\",function(){var e=document.getElementById(\"nuxt-loading\");e&&(e.className+=\" error\")})</script><div id=\"nuxt-loading\" aria-live=\"polite\" role=\"status\"><div>Loading...</div></div></div><script>window.__NUXT__={config:{_app:{basePath:\"/\",assetsPath:\"/_nuxt/\",cdnURL:null}}}</script>\\n  <script src=\"/_nuxt/ee8216f.js\"></script><script src=\"/_nuxt/a00cd89.js\"></script><script src=\"/_nuxt/10879df.js\"></script><script src=\"/_nuxt/ca64d0f.js\"></script></body>\\n</html>\\n'"
      ]
     },
     "execution_count": 5,
     "metadata": {},
     "output_type": "execute_result"
    }
   ],
   "source": [
    "html_data=html.content\n",
    "html_data"
   ]
  },
  {
   "cell_type": "code",
   "execution_count": 6,
   "metadata": {},
   "outputs": [
    {
     "data": {
      "text/plain": [
       "<!DOCTYPE html>\n",
       "\n",
       "<html data-n-head=\"%7B%22lang%22:%7B%221%22:%22en%22%7D%7D\" lang=\"en\">\n",
       "<head>\n",
       "<title>rarity.tools</title><meta charset=\"utf-8\" data-n-head=\"1\"/><meta content=\"width=device-width,initial-scale=1\" data-n-head=\"1\" name=\"viewport\"/><meta content=\"NFTs ranked and sorted by rarity. See the rarest CryptoPunks, Bored Ape Yacht Club, Hashmasks, Gutter Cat Gang and many more NFT collections.\" data-hid=\"description\" data-n-head=\"1\" name=\"description\"/><meta content=\"d1beade5d331af50ccff476e3be587a0\" data-n-head=\"1\" name=\"coinzilla\"/><link data-n-head=\"1\" href=\"/favicon.ico\" rel=\"icon\" type=\"image/x-icon\"/><script data-n-head=\"1\" defer=\"\" src=\"https://www.googletagmanager.com/gtag/js?id=G-3X9WY5Z1T6\"></script><script data-n-head=\"1\" defer=\"\" src=\"/gtag.js\"></script><link as=\"script\" href=\"/_nuxt/ee8216f.js\" rel=\"preload\"/><link as=\"script\" href=\"/_nuxt/a00cd89.js\" rel=\"preload\"/><link as=\"script\" href=\"/_nuxt/10879df.js\" rel=\"preload\"/><link as=\"script\" href=\"/_nuxt/ca64d0f.js\" rel=\"preload\"/>\n",
       "</head>\n",
       "<body>\n",
       "<script data-hid=\"nuxt-color-mode-script\" data-n-head=\"1\" data-pbody=\"true\">!function(){\"use strict\";var t=window,e=document,s=e.documentElement,a=[\"dark\",\"light\"],o=window.localStorage.getItem(\"nuxt-color-mode\")||\"system\",c=\"system\"===o?n():o,e=e.body.getAttribute(\"data-color-mode-forced\");function r(e){e=\"\"+e;s.classList?s.classList.add(e):s.className+=\" \"+e}function l(e){return t.matchMedia(\"(prefers-color-scheme\"+e+\")\")}function n(){if(t.matchMedia&&\"not all\"!==l(\"\").media)for(var e of a)if(l(\":\"+e).matches)return e;return\"light\"}r(c=e?e:c),t.__NUXT_COLOR_MODE__={preference:o,value:c,getColorScheme:n,addClass:r,removeClass:function(e){e=\"\"+e;s.classList?s.classList.remove(e):s.className=s.className.replace(new RegExp(e,\"g\"),\"\")}}}()</script><div id=\"__nuxt\"><style>#nuxt-loading{background:#fff;visibility:hidden;opacity:0;position:absolute;left:0;right:0;top:0;bottom:0;display:flex;justify-content:center;align-items:center;flex-direction:column;animation:nuxtLoadingIn 10s ease;-webkit-animation:nuxtLoadingIn 10s ease;animation-fill-mode:forwards;overflow:hidden}@keyframes nuxtLoadingIn{0%{visibility:hidden;opacity:0}20%{visibility:visible;opacity:0}100%{visibility:visible;opacity:1}}@-webkit-keyframes nuxtLoadingIn{0%{visibility:hidden;opacity:0}20%{visibility:visible;opacity:0}100%{visibility:visible;opacity:1}}#nuxt-loading>div,#nuxt-loading>div:after{border-radius:50%;width:5rem;height:5rem}#nuxt-loading>div{font-size:10px;position:relative;text-indent:-9999em;border:.5rem solid #f5f5f5;border-left:.5rem solid #000;-webkit-transform:translateZ(0);-ms-transform:translateZ(0);transform:translateZ(0);-webkit-animation:nuxtLoading 1.1s infinite linear;animation:nuxtLoading 1.1s infinite linear}#nuxt-loading.error>div{border-left:.5rem solid #ff4500;animation-duration:5s}@-webkit-keyframes nuxtLoading{0%{-webkit-transform:rotate(0);transform:rotate(0)}100%{-webkit-transform:rotate(360deg);transform:rotate(360deg)}}@keyframes nuxtLoading{0%{-webkit-transform:rotate(0);transform:rotate(0)}100%{-webkit-transform:rotate(360deg);transform:rotate(360deg)}}</style><script>window.addEventListener(\"error\",function(){var e=document.getElementById(\"nuxt-loading\");e&&(e.className+=\" error\")})</script><div aria-live=\"polite\" id=\"nuxt-loading\" role=\"status\"><div>Loading...</div></div></div><script>window.__NUXT__={config:{_app:{basePath:\"/\",assetsPath:\"/_nuxt/\",cdnURL:null}}}</script>\n",
       "<script src=\"/_nuxt/ee8216f.js\"></script><script src=\"/_nuxt/a00cd89.js\"></script><script src=\"/_nuxt/10879df.js\"></script><script src=\"/_nuxt/ca64d0f.js\"></script></body>\n",
       "</html>"
      ]
     },
     "execution_count": 6,
     "metadata": {},
     "output_type": "execute_result"
    }
   ],
   "source": [
    "soup=bs(html_data,'html.parser')\n",
    "soup"
   ]
  },
  {
   "cell_type": "code",
   "execution_count": 7,
   "metadata": {},
   "outputs": [],
   "source": [
    "data=soup.find_all('table')"
   ]
  },
  {
   "cell_type": "code",
   "execution_count": 8,
   "metadata": {},
   "outputs": [
    {
     "data": {
      "text/plain": [
       "[]"
      ]
     },
     "execution_count": 8,
     "metadata": {},
     "output_type": "execute_result"
    }
   ],
   "source": [
    "data"
   ]
  },
  {
   "cell_type": "code",
   "execution_count": 9,
   "metadata": {},
   "outputs": [],
   "source": [
    "import urllib.request\n",
    "from pprint import pprint\n",
    "from html_table_parser import HTMLTableParser\n",
    "import pandas as pd"
   ]
  },
  {
   "cell_type": "code",
   "execution_count": 10,
   "metadata": {},
   "outputs": [],
   "source": [
    "#defining the function for getting the content of the oage\n",
    "\n",
    "def url_content(url):\n",
    "    req=urllib.request.Request(url=url)\n",
    "    f=urllib.request.urlopen(req)\n",
    "    return f.read()"
   ]
  },
  {
   "cell_type": "code",
   "execution_count": 11,
   "metadata": {},
   "outputs": [],
   "source": [
    "#defining the content of the page\n",
    "# xhtml=url_content('https://rarity.tools/').decode()\n",
    "xhtml = url_content('https://rarity.tools/').decode('utf-8')"
   ]
  },
  {
   "cell_type": "code",
   "execution_count": 12,
   "metadata": {},
   "outputs": [
    {
     "data": {
      "text/plain": [
       "'<!doctype html>\\n<html lang=\"en\" data-n-head=\"%7B%22lang%22:%7B%221%22:%22en%22%7D%7D\">\\n  <head>\\n    <title>rarity.tools</title><meta data-n-head=\"1\" charset=\"utf-8\"><meta data-n-head=\"1\" name=\"viewport\" content=\"width=device-width,initial-scale=1\"><meta data-n-head=\"1\" data-hid=\"description\" name=\"description\" content=\"NFTs ranked and sorted by rarity. See the rarest CryptoPunks, Bored Ape Yacht Club, Hashmasks, Gutter Cat Gang and many more NFT collections.\"><meta data-n-head=\"1\" name=\"coinzilla\" content=\"d1beade5d331af50ccff476e3be587a0\"><link data-n-head=\"1\" rel=\"icon\" type=\"image/x-icon\" href=\"/favicon.ico\"><script data-n-head=\"1\" src=\"https://www.googletagmanager.com/gtag/js?id=G-3X9WY5Z1T6\" defer></script><script data-n-head=\"1\" src=\"/gtag.js\" defer></script><link rel=\"preload\" href=\"/_nuxt/ee8216f.js\" as=\"script\"><link rel=\"preload\" href=\"/_nuxt/a00cd89.js\" as=\"script\"><link rel=\"preload\" href=\"/_nuxt/10879df.js\" as=\"script\"><link rel=\"preload\" href=\"/_nuxt/ca64d0f.js\" as=\"script\">\\n  </head>\\n  <body>\\n    <script data-n-head=\"1\" data-hid=\"nuxt-color-mode-script\" data-pbody=\"true\">!function(){\"use strict\";var t=window,e=document,s=e.documentElement,a=[\"dark\",\"light\"],o=window.localStorage.getItem(\"nuxt-color-mode\")||\"system\",c=\"system\"===o?n():o,e=e.body.getAttribute(\"data-color-mode-forced\");function r(e){e=\"\"+e;s.classList?s.classList.add(e):s.className+=\" \"+e}function l(e){return t.matchMedia(\"(prefers-color-scheme\"+e+\")\")}function n(){if(t.matchMedia&&\"not all\"!==l(\"\").media)for(var e of a)if(l(\":\"+e).matches)return e;return\"light\"}r(c=e?e:c),t.__NUXT_COLOR_MODE__={preference:o,value:c,getColorScheme:n,addClass:r,removeClass:function(e){e=\"\"+e;s.classList?s.classList.remove(e):s.className=s.className.replace(new RegExp(e,\"g\"),\"\")}}}()</script><div id=\"__nuxt\"><style>#nuxt-loading{background:#fff;visibility:hidden;opacity:0;position:absolute;left:0;right:0;top:0;bottom:0;display:flex;justify-content:center;align-items:center;flex-direction:column;animation:nuxtLoadingIn 10s ease;-webkit-animation:nuxtLoadingIn 10s ease;animation-fill-mode:forwards;overflow:hidden}@keyframes nuxtLoadingIn{0%{visibility:hidden;opacity:0}20%{visibility:visible;opacity:0}100%{visibility:visible;opacity:1}}@-webkit-keyframes nuxtLoadingIn{0%{visibility:hidden;opacity:0}20%{visibility:visible;opacity:0}100%{visibility:visible;opacity:1}}#nuxt-loading>div,#nuxt-loading>div:after{border-radius:50%;width:5rem;height:5rem}#nuxt-loading>div{font-size:10px;position:relative;text-indent:-9999em;border:.5rem solid #f5f5f5;border-left:.5rem solid #000;-webkit-transform:translateZ(0);-ms-transform:translateZ(0);transform:translateZ(0);-webkit-animation:nuxtLoading 1.1s infinite linear;animation:nuxtLoading 1.1s infinite linear}#nuxt-loading.error>div{border-left:.5rem solid #ff4500;animation-duration:5s}@-webkit-keyframes nuxtLoading{0%{-webkit-transform:rotate(0);transform:rotate(0)}100%{-webkit-transform:rotate(360deg);transform:rotate(360deg)}}@keyframes nuxtLoading{0%{-webkit-transform:rotate(0);transform:rotate(0)}100%{-webkit-transform:rotate(360deg);transform:rotate(360deg)}}</style><script>window.addEventListener(\"error\",function(){var e=document.getElementById(\"nuxt-loading\");e&&(e.className+=\" error\")})</script><div id=\"nuxt-loading\" aria-live=\"polite\" role=\"status\"><div>Loading...</div></div></div><script>window.__NUXT__={config:{_app:{basePath:\"/\",assetsPath:\"/_nuxt/\",cdnURL:null}}}</script>\\n  <script src=\"/_nuxt/ee8216f.js\"></script><script src=\"/_nuxt/a00cd89.js\"></script><script src=\"/_nuxt/10879df.js\"></script><script src=\"/_nuxt/ca64d0f.js\"></script></body>\\n</html>\\n'"
      ]
     },
     "execution_count": 12,
     "metadata": {},
     "output_type": "execute_result"
    }
   ],
   "source": [
    "xhtml"
   ]
  },
  {
   "cell_type": "code",
   "execution_count": 33,
   "metadata": {},
   "outputs": [],
   "source": [
    "#defining the html parser object\n",
    "p=HTMLTableParser()\n",
    "#feeding the html content into the paser\n",
    "p.feed(xhtml)"
   ]
  },
  {
   "cell_type": "code",
   "execution_count": null,
   "metadata": {},
   "outputs": [],
   "source": []
  },
  {
   "cell_type": "code",
   "execution_count": 36,
   "metadata": {},
   "outputs": [
    {
     "ename": "IndexError",
     "evalue": "list index out of range",
     "output_type": "error",
     "traceback": [
      "\u001b[0;31m---------------------------------------------------------------------------\u001b[0m",
      "\u001b[0;31mIndexError\u001b[0m                                Traceback (most recent call last)",
      "\u001b[0;32m<ipython-input-36-44e43c4534f4>\u001b[0m in \u001b[0;36m<module>\u001b[0;34m\u001b[0m\n\u001b[1;32m      1\u001b[0m \u001b[0;31m#etracting data  from the table\u001b[0m\u001b[0;34m\u001b[0m\u001b[0;34m\u001b[0m\u001b[0;34m\u001b[0m\u001b[0m\n\u001b[0;32m----> 2\u001b[0;31m \u001b[0mpprint\u001b[0m\u001b[0;34m(\u001b[0m\u001b[0mp\u001b[0m\u001b[0;34m.\u001b[0m\u001b[0mtables\u001b[0m\u001b[0;34m[\u001b[0m\u001b[0;36m0\u001b[0m\u001b[0;34m]\u001b[0m\u001b[0;34m)\u001b[0m\u001b[0;34m\u001b[0m\u001b[0;34m\u001b[0m\u001b[0m\n\u001b[0m",
      "\u001b[0;31mIndexError\u001b[0m: list index out of range"
     ]
    }
   ],
   "source": [
    "#etracting data  from the table\n",
    "pprint(p.tables[0])"
   ]
  },
  {
   "cell_type": "code",
   "execution_count": 37,
   "metadata": {},
   "outputs": [
    {
     "name": "stdout",
     "output_type": "stream",
     "text": [
      "[]\n"
     ]
    }
   ],
   "source": [
    "pprint(p.tables)"
   ]
  },
  {
   "cell_type": "code",
   "execution_count": 41,
   "metadata": {},
   "outputs": [
    {
     "name": "stdout",
     "output_type": "stream",
     "text": [
      "\n",
      "\n",
      "PANDAS DATAFRAME\n",
      "\n"
     ]
    },
    {
     "ename": "IndexError",
     "evalue": "list index out of range",
     "output_type": "error",
     "traceback": [
      "\u001b[0;31m---------------------------------------------------------------------------\u001b[0m",
      "\u001b[0;31mIndexError\u001b[0m                                Traceback (most recent call last)",
      "\u001b[0;32m<ipython-input-41-4efcfe26bd88>\u001b[0m in \u001b[0;36m<module>\u001b[0;34m\u001b[0m\n\u001b[1;32m      1\u001b[0m \u001b[0mprint\u001b[0m\u001b[0;34m(\u001b[0m\u001b[0;34m\"\\n\\nPANDAS DATAFRAME\\n\"\u001b[0m\u001b[0;34m)\u001b[0m\u001b[0;34m\u001b[0m\u001b[0;34m\u001b[0m\u001b[0m\n\u001b[0;32m----> 2\u001b[0;31m \u001b[0mprint\u001b[0m\u001b[0;34m(\u001b[0m\u001b[0mpd\u001b[0m\u001b[0;34m.\u001b[0m\u001b[0mDataFrame\u001b[0m\u001b[0;34m(\u001b[0m\u001b[0mp\u001b[0m\u001b[0;34m.\u001b[0m\u001b[0mtables\u001b[0m\u001b[0;34m[\u001b[0m\u001b[0;36m0\u001b[0m\u001b[0;34m]\u001b[0m\u001b[0;34m)\u001b[0m\u001b[0;34m)\u001b[0m\u001b[0;34m\u001b[0m\u001b[0;34m\u001b[0m\u001b[0m\n\u001b[0m",
      "\u001b[0;31mIndexError\u001b[0m: list index out of range"
     ]
    }
   ],
   "source": [
    "print(\"\\n\\nPANDAS DATAFRAME\\n\")\n",
    "print(pd.DataFrame(p.tables[0]))"
   ]
  },
  {
   "cell_type": "code",
   "execution_count": 39,
   "metadata": {},
   "outputs": [
    {
     "ename": "IndexError",
     "evalue": "list index out of range",
     "output_type": "error",
     "traceback": [
      "\u001b[0;31m---------------------------------------------------------------------------\u001b[0m",
      "\u001b[0;31mIndexError\u001b[0m                                Traceback (most recent call last)",
      "\u001b[0;32m<ipython-input-39-f63f6dcfa27e>\u001b[0m in \u001b[0;36m<module>\u001b[0;34m\u001b[0m\n\u001b[0;32m----> 1\u001b[0;31m \u001b[0mpprint\u001b[0m\u001b[0;34m(\u001b[0m\u001b[0mp\u001b[0m\u001b[0;34m.\u001b[0m\u001b[0mtables\u001b[0m\u001b[0;34m[\u001b[0m\u001b[0;36m0\u001b[0m\u001b[0;34m]\u001b[0m\u001b[0;34m)\u001b[0m\u001b[0;34m\u001b[0m\u001b[0;34m\u001b[0m\u001b[0m\n\u001b[0m",
      "\u001b[0;31mIndexError\u001b[0m: list index out of range"
     ]
    }
   ],
   "source": [
    "pprint(p.tables[0])"
   ]
  },
  {
   "cell_type": "code",
   "execution_count": null,
   "metadata": {},
   "outputs": [],
   "source": []
  }
 ],
 "metadata": {
  "kernelspec": {
   "display_name": "Python 3",
   "language": "python",
   "name": "python3"
  },
  "language_info": {
   "codemirror_mode": {
    "name": "ipython",
    "version": 3
   },
   "file_extension": ".py",
   "mimetype": "text/x-python",
   "name": "python",
   "nbconvert_exporter": "python",
   "pygments_lexer": "ipython3",
   "version": "3.7.6"
  }
 },
 "nbformat": 4,
 "nbformat_minor": 4
}
